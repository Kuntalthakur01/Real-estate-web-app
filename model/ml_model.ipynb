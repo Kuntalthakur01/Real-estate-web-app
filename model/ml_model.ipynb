{
  "cells": [
    {
      "cell_type": "code",
      "execution_count": null,
      "id": "bdd643db",
      "metadata": {
        "id": "bdd643db"
      },
      "outputs": [],
      "source": [
        "import pandas as pd\n",
        "import numpy as np\n",
        "import matplotlib.pyplot as plt\n",
        "import seaborn as sns"
      ]
    },
    {
      "cell_type": "markdown",
      "source": [],
      "metadata": {
        "id": "twN2M9I1bLRt"
      },
      "id": "twN2M9I1bLRt"
    },
    {
      "cell_type": "code",
      "execution_count": null,
      "id": "ce112403",
      "metadata": {
        "id": "ce112403"
      },
      "outputs": [],
      "source": [
        "df=pd.read_csv('Trulia_Real_Estate.csv')"
      ]
    },
    {
      "cell_type": "code",
      "execution_count": null,
      "id": "cf6e99ad",
      "metadata": {
        "colab": {
          "base_uri": "https://localhost:8080/"
        },
        "id": "cf6e99ad",
        "outputId": "fb949e09-633d-420f-baf2-43cafc5b9b8c"
      },
      "outputs": [
        {
          "output_type": "execute_result",
          "data": {
            "text/plain": [
              "Index(['Unnamed: 0', 'Name', 'City', 'Neighbourhood', 'Price', 'Year Built',\n",
              "       'Beds', 'Baths', 'Area', 'Price(per sqft)', 'A/C'],\n",
              "      dtype='object')"
            ]
          },
          "metadata": {},
          "execution_count": 18
        }
      ],
      "source": [
        "df.columns"
      ]
    },
    {
      "cell_type": "code",
      "execution_count": null,
      "id": "4b44e3cf",
      "metadata": {
        "id": "4b44e3cf"
      },
      "outputs": [],
      "source": [
        "df=df.drop(['Unnamed: 0'], axis=1)"
      ]
    },
    {
      "cell_type": "code",
      "execution_count": null,
      "id": "7cf86536",
      "metadata": {
        "colab": {
          "base_uri": "https://localhost:8080/",
          "height": 658
        },
        "id": "7cf86536",
        "outputId": "2c841df1-0d21-4106-effb-9e6b29382c04"
      },
      "outputs": [
        {
          "output_type": "execute_result",
          "data": {
            "text/plain": [
              "                       Name                        City       Neighbourhood  \\\n",
              "0    3324 Junction Blvd #5X   Jackson Heights, NY 11372     Jackson Heights   \n",
              "1         37-26 32nd St #5K  Long Island City, NY 11101             Astoria   \n",
              "2         37-26 32nd St #3G  Long Island City, NY 11101             Astoria   \n",
              "3         37-26 32nd St #6L  Long Island City, NY 11101             Astoria   \n",
              "4         37-26 32nd St #3H  Long Island City, NY 11101             Astoria   \n",
              "..                      ...                         ...                 ...   \n",
              "382      195 Classon Ave #5          Brooklyn, NY 11205  Bedford Stuyvesant   \n",
              "383        140 E 2nd St #6U          Brooklyn, NY 11218     Windsor Terrace   \n",
              "384    410 Maryland Ave #1C     Staten Island, NY 10305            Rosebank   \n",
              "385          2415 E 64th St          Brooklyn, NY 11234          Mill Basin   \n",
              "386       150 E 69th St #3M          New York, NY 10065     Upper East Side   \n",
              "\n",
              "          Price        Year Built    Beds    Baths        Area  \\\n",
              "0      $285,000              Null   1 Bed   1 Bath    800 sqft   \n",
              "1      $620,000  Year Built: 2022  Studio   1 Bath    441 sqft   \n",
              "2      $730,000  Year Built: 2022   1 Bed   1 Bath    579 sqft   \n",
              "3      $570,000  Year Built: 2022  Studio   1 Bath    429 sqft   \n",
              "4      $695,000  Year Built: 2022   1 Bed   1 Bath    632 sqft   \n",
              "..          ...               ...     ...      ...         ...   \n",
              "382  $1,395,000  Year Built: 2008  2 Beds  2 Baths  1,185 sqft   \n",
              "383    $595,000  Year Built: 1940   1 Bed   1 Bath        Null   \n",
              "384    $279,900  Year Built: 1974  2 Beds   1 Bath  1,100 sqft   \n",
              "385  $1,089,000  Year Built: 1965  4 Beds  3 Baths  1,899 sqft   \n",
              "386  $1,825,000  Year Built: 1959  2 Beds  2 Baths        Null   \n",
              "\n",
              "    Price(per sqft)                A/C  \n",
              "0              $356       Cooling only  \n",
              "1            $1,406       Cooling only  \n",
              "2            $1,261       Cooling only  \n",
              "3            $1,329       Cooling only  \n",
              "4            $1,100                 No  \n",
              "..              ...                ...  \n",
              "382          $1,177                 No  \n",
              "383         No Info                 No  \n",
              "384            $254  Heating & Cooling  \n",
              "385            $573  Heating & Cooling  \n",
              "386         No Info       Cooling only  \n",
              "\n",
              "[387 rows x 10 columns]"
            ],
            "text/html": [
              "\n",
              "  <div id=\"df-b34aad21-d84e-4155-a128-e99a262b9cea\">\n",
              "    <div class=\"colab-df-container\">\n",
              "      <div>\n",
              "<style scoped>\n",
              "    .dataframe tbody tr th:only-of-type {\n",
              "        vertical-align: middle;\n",
              "    }\n",
              "\n",
              "    .dataframe tbody tr th {\n",
              "        vertical-align: top;\n",
              "    }\n",
              "\n",
              "    .dataframe thead th {\n",
              "        text-align: right;\n",
              "    }\n",
              "</style>\n",
              "<table border=\"1\" class=\"dataframe\">\n",
              "  <thead>\n",
              "    <tr style=\"text-align: right;\">\n",
              "      <th></th>\n",
              "      <th>Name</th>\n",
              "      <th>City</th>\n",
              "      <th>Neighbourhood</th>\n",
              "      <th>Price</th>\n",
              "      <th>Year Built</th>\n",
              "      <th>Beds</th>\n",
              "      <th>Baths</th>\n",
              "      <th>Area</th>\n",
              "      <th>Price(per sqft)</th>\n",
              "      <th>A/C</th>\n",
              "    </tr>\n",
              "  </thead>\n",
              "  <tbody>\n",
              "    <tr>\n",
              "      <th>0</th>\n",
              "      <td>3324 Junction Blvd #5X</td>\n",
              "      <td>Jackson Heights, NY 11372</td>\n",
              "      <td>Jackson Heights</td>\n",
              "      <td>$285,000</td>\n",
              "      <td>Null</td>\n",
              "      <td>1 Bed</td>\n",
              "      <td>1 Bath</td>\n",
              "      <td>800 sqft</td>\n",
              "      <td>$356</td>\n",
              "      <td>Cooling only</td>\n",
              "    </tr>\n",
              "    <tr>\n",
              "      <th>1</th>\n",
              "      <td>37-26 32nd St #5K</td>\n",
              "      <td>Long Island City, NY 11101</td>\n",
              "      <td>Astoria</td>\n",
              "      <td>$620,000</td>\n",
              "      <td>Year Built: 2022</td>\n",
              "      <td>Studio</td>\n",
              "      <td>1 Bath</td>\n",
              "      <td>441 sqft</td>\n",
              "      <td>$1,406</td>\n",
              "      <td>Cooling only</td>\n",
              "    </tr>\n",
              "    <tr>\n",
              "      <th>2</th>\n",
              "      <td>37-26 32nd St #3G</td>\n",
              "      <td>Long Island City, NY 11101</td>\n",
              "      <td>Astoria</td>\n",
              "      <td>$730,000</td>\n",
              "      <td>Year Built: 2022</td>\n",
              "      <td>1 Bed</td>\n",
              "      <td>1 Bath</td>\n",
              "      <td>579 sqft</td>\n",
              "      <td>$1,261</td>\n",
              "      <td>Cooling only</td>\n",
              "    </tr>\n",
              "    <tr>\n",
              "      <th>3</th>\n",
              "      <td>37-26 32nd St #6L</td>\n",
              "      <td>Long Island City, NY 11101</td>\n",
              "      <td>Astoria</td>\n",
              "      <td>$570,000</td>\n",
              "      <td>Year Built: 2022</td>\n",
              "      <td>Studio</td>\n",
              "      <td>1 Bath</td>\n",
              "      <td>429 sqft</td>\n",
              "      <td>$1,329</td>\n",
              "      <td>Cooling only</td>\n",
              "    </tr>\n",
              "    <tr>\n",
              "      <th>4</th>\n",
              "      <td>37-26 32nd St #3H</td>\n",
              "      <td>Long Island City, NY 11101</td>\n",
              "      <td>Astoria</td>\n",
              "      <td>$695,000</td>\n",
              "      <td>Year Built: 2022</td>\n",
              "      <td>1 Bed</td>\n",
              "      <td>1 Bath</td>\n",
              "      <td>632 sqft</td>\n",
              "      <td>$1,100</td>\n",
              "      <td>No</td>\n",
              "    </tr>\n",
              "    <tr>\n",
              "      <th>...</th>\n",
              "      <td>...</td>\n",
              "      <td>...</td>\n",
              "      <td>...</td>\n",
              "      <td>...</td>\n",
              "      <td>...</td>\n",
              "      <td>...</td>\n",
              "      <td>...</td>\n",
              "      <td>...</td>\n",
              "      <td>...</td>\n",
              "      <td>...</td>\n",
              "    </tr>\n",
              "    <tr>\n",
              "      <th>382</th>\n",
              "      <td>195 Classon Ave #5</td>\n",
              "      <td>Brooklyn, NY 11205</td>\n",
              "      <td>Bedford Stuyvesant</td>\n",
              "      <td>$1,395,000</td>\n",
              "      <td>Year Built: 2008</td>\n",
              "      <td>2 Beds</td>\n",
              "      <td>2 Baths</td>\n",
              "      <td>1,185 sqft</td>\n",
              "      <td>$1,177</td>\n",
              "      <td>No</td>\n",
              "    </tr>\n",
              "    <tr>\n",
              "      <th>383</th>\n",
              "      <td>140 E 2nd St #6U</td>\n",
              "      <td>Brooklyn, NY 11218</td>\n",
              "      <td>Windsor Terrace</td>\n",
              "      <td>$595,000</td>\n",
              "      <td>Year Built: 1940</td>\n",
              "      <td>1 Bed</td>\n",
              "      <td>1 Bath</td>\n",
              "      <td>Null</td>\n",
              "      <td>No Info</td>\n",
              "      <td>No</td>\n",
              "    </tr>\n",
              "    <tr>\n",
              "      <th>384</th>\n",
              "      <td>410 Maryland Ave #1C</td>\n",
              "      <td>Staten Island, NY 10305</td>\n",
              "      <td>Rosebank</td>\n",
              "      <td>$279,900</td>\n",
              "      <td>Year Built: 1974</td>\n",
              "      <td>2 Beds</td>\n",
              "      <td>1 Bath</td>\n",
              "      <td>1,100 sqft</td>\n",
              "      <td>$254</td>\n",
              "      <td>Heating &amp; Cooling</td>\n",
              "    </tr>\n",
              "    <tr>\n",
              "      <th>385</th>\n",
              "      <td>2415 E 64th St</td>\n",
              "      <td>Brooklyn, NY 11234</td>\n",
              "      <td>Mill Basin</td>\n",
              "      <td>$1,089,000</td>\n",
              "      <td>Year Built: 1965</td>\n",
              "      <td>4 Beds</td>\n",
              "      <td>3 Baths</td>\n",
              "      <td>1,899 sqft</td>\n",
              "      <td>$573</td>\n",
              "      <td>Heating &amp; Cooling</td>\n",
              "    </tr>\n",
              "    <tr>\n",
              "      <th>386</th>\n",
              "      <td>150 E 69th St #3M</td>\n",
              "      <td>New York, NY 10065</td>\n",
              "      <td>Upper East Side</td>\n",
              "      <td>$1,825,000</td>\n",
              "      <td>Year Built: 1959</td>\n",
              "      <td>2 Beds</td>\n",
              "      <td>2 Baths</td>\n",
              "      <td>Null</td>\n",
              "      <td>No Info</td>\n",
              "      <td>Cooling only</td>\n",
              "    </tr>\n",
              "  </tbody>\n",
              "</table>\n",
              "<p>387 rows × 10 columns</p>\n",
              "</div>\n",
              "      <button class=\"colab-df-convert\" onclick=\"convertToInteractive('df-b34aad21-d84e-4155-a128-e99a262b9cea')\"\n",
              "              title=\"Convert this dataframe to an interactive table.\"\n",
              "              style=\"display:none;\">\n",
              "        \n",
              "  <svg xmlns=\"http://www.w3.org/2000/svg\" height=\"24px\"viewBox=\"0 0 24 24\"\n",
              "       width=\"24px\">\n",
              "    <path d=\"M0 0h24v24H0V0z\" fill=\"none\"/>\n",
              "    <path d=\"M18.56 5.44l.94 2.06.94-2.06 2.06-.94-2.06-.94-.94-2.06-.94 2.06-2.06.94zm-11 1L8.5 8.5l.94-2.06 2.06-.94-2.06-.94L8.5 2.5l-.94 2.06-2.06.94zm10 10l.94 2.06.94-2.06 2.06-.94-2.06-.94-.94-2.06-.94 2.06-2.06.94z\"/><path d=\"M17.41 7.96l-1.37-1.37c-.4-.4-.92-.59-1.43-.59-.52 0-1.04.2-1.43.59L10.3 9.45l-7.72 7.72c-.78.78-.78 2.05 0 2.83L4 21.41c.39.39.9.59 1.41.59.51 0 1.02-.2 1.41-.59l7.78-7.78 2.81-2.81c.8-.78.8-2.07 0-2.86zM5.41 20L4 18.59l7.72-7.72 1.47 1.35L5.41 20z\"/>\n",
              "  </svg>\n",
              "      </button>\n",
              "      \n",
              "  <style>\n",
              "    .colab-df-container {\n",
              "      display:flex;\n",
              "      flex-wrap:wrap;\n",
              "      gap: 12px;\n",
              "    }\n",
              "\n",
              "    .colab-df-convert {\n",
              "      background-color: #E8F0FE;\n",
              "      border: none;\n",
              "      border-radius: 50%;\n",
              "      cursor: pointer;\n",
              "      display: none;\n",
              "      fill: #1967D2;\n",
              "      height: 32px;\n",
              "      padding: 0 0 0 0;\n",
              "      width: 32px;\n",
              "    }\n",
              "\n",
              "    .colab-df-convert:hover {\n",
              "      background-color: #E2EBFA;\n",
              "      box-shadow: 0px 1px 2px rgba(60, 64, 67, 0.3), 0px 1px 3px 1px rgba(60, 64, 67, 0.15);\n",
              "      fill: #174EA6;\n",
              "    }\n",
              "\n",
              "    [theme=dark] .colab-df-convert {\n",
              "      background-color: #3B4455;\n",
              "      fill: #D2E3FC;\n",
              "    }\n",
              "\n",
              "    [theme=dark] .colab-df-convert:hover {\n",
              "      background-color: #434B5C;\n",
              "      box-shadow: 0px 1px 3px 1px rgba(0, 0, 0, 0.15);\n",
              "      filter: drop-shadow(0px 1px 2px rgba(0, 0, 0, 0.3));\n",
              "      fill: #FFFFFF;\n",
              "    }\n",
              "  </style>\n",
              "\n",
              "      <script>\n",
              "        const buttonEl =\n",
              "          document.querySelector('#df-b34aad21-d84e-4155-a128-e99a262b9cea button.colab-df-convert');\n",
              "        buttonEl.style.display =\n",
              "          google.colab.kernel.accessAllowed ? 'block' : 'none';\n",
              "\n",
              "        async function convertToInteractive(key) {\n",
              "          const element = document.querySelector('#df-b34aad21-d84e-4155-a128-e99a262b9cea');\n",
              "          const dataTable =\n",
              "            await google.colab.kernel.invokeFunction('convertToInteractive',\n",
              "                                                     [key], {});\n",
              "          if (!dataTable) return;\n",
              "\n",
              "          const docLinkHtml = 'Like what you see? Visit the ' +\n",
              "            '<a target=\"_blank\" href=https://colab.research.google.com/notebooks/data_table.ipynb>data table notebook</a>'\n",
              "            + ' to learn more about interactive tables.';\n",
              "          element.innerHTML = '';\n",
              "          dataTable['output_type'] = 'display_data';\n",
              "          await google.colab.output.renderOutput(dataTable, element);\n",
              "          const docLink = document.createElement('div');\n",
              "          docLink.innerHTML = docLinkHtml;\n",
              "          element.appendChild(docLink);\n",
              "        }\n",
              "      </script>\n",
              "    </div>\n",
              "  </div>\n",
              "  "
            ]
          },
          "metadata": {},
          "execution_count": 20
        }
      ],
      "source": [
        "df"
      ]
    },
    {
      "cell_type": "code",
      "execution_count": null,
      "id": "a691d755",
      "metadata": {
        "id": "a691d755"
      },
      "outputs": [],
      "source": [
        "#data cleaning"
      ]
    },
    {
      "cell_type": "code",
      "execution_count": null,
      "id": "50b50d19",
      "metadata": {
        "id": "50b50d19"
      },
      "outputs": [],
      "source": [
        "n1= df[\"City\"].str.split(\",\", n=1, expand=True)[0]\n",
        "df[\"City\"] = n1"
      ]
    },
    {
      "cell_type": "code",
      "execution_count": null,
      "id": "2a004d1f",
      "metadata": {
        "id": "2a004d1f"
      },
      "outputs": [],
      "source": [
        "n2= df[\"Year Built\"].str.split(\": \", n=1, expand=True)[1]\n",
        "df[\"Year Built\"] = n2"
      ]
    },
    {
      "cell_type": "code",
      "execution_count": null,
      "id": "aea54eb9",
      "metadata": {
        "id": "aea54eb9"
      },
      "outputs": [],
      "source": [
        "n3= df[\"Beds\"].str.split(\" \", n=1, expand=True)[0]\n",
        "n3 = n3.str.replace('Studio', '0')\n",
        "df[\"Beds\"] = n3"
      ]
    },
    {
      "cell_type": "code",
      "execution_count": null,
      "id": "c6fc99ab",
      "metadata": {
        "id": "c6fc99ab"
      },
      "outputs": [],
      "source": [
        "n4 = df[\"Baths\"].str.split(\" \", n=1, expand=True)[0]\n",
        "df[\"Baths\"] = n4"
      ]
    },
    {
      "cell_type": "code",
      "execution_count": null,
      "id": "086566e7",
      "metadata": {
        "id": "086566e7"
      },
      "outputs": [],
      "source": [
        "n5 = df[\"Area\"].str.split(\" \", n=1, expand=True)[0]\n",
        "n5 = n5.str.replace(',', '')\n",
        "df[\"Area\"] = n5"
      ]
    },
    {
      "cell_type": "code",
      "execution_count": null,
      "id": "fa477879",
      "metadata": {
        "id": "fa477879"
      },
      "outputs": [],
      "source": [
        "n6 = df[\"Price(per sqft)\"].str.split(\"$\", n=1, expand=True)[1]\n",
        "n6 = n6.str.replace(',', '')\n",
        "df[\"Price(per sqft)\"] = n6"
      ]
    },
    {
      "cell_type": "code",
      "execution_count": null,
      "id": "ffcff664",
      "metadata": {
        "id": "ffcff664"
      },
      "outputs": [],
      "source": [
        "n7 = df[\"Price\"].str.split(\"$\", n=1, expand=True)[1]\n",
        "n7 = n7.str.replace(',', '')\n",
        "df[\"Price\"] = n7"
      ]
    },
    {
      "cell_type": "code",
      "execution_count": null,
      "id": "47a6368b",
      "metadata": {
        "id": "47a6368b"
      },
      "outputs": [],
      "source": [
        "df.dropna(inplace=True)"
      ]
    },
    {
      "cell_type": "code",
      "execution_count": null,
      "id": "e4bdd411",
      "metadata": {
        "id": "e4bdd411",
        "colab": {
          "base_uri": "https://localhost:8080/",
          "height": 424
        },
        "outputId": "176d32c1-1d02-4808-8c35-ede596e40a62"
      },
      "outputs": [
        {
          "output_type": "execute_result",
          "data": {
            "text/plain": [
              "                          Name              City       Neighbourhood    Price  \\\n",
              "1            37-26 32nd St #5K  Long Island City             Astoria   620000   \n",
              "2            37-26 32nd St #3G  Long Island City             Astoria   730000   \n",
              "3            37-26 32nd St #6L  Long Island City             Astoria   570000   \n",
              "4            37-26 32nd St #3H  Long Island City             Astoria   695000   \n",
              "6    2736 Independence Ave #6J             Bronx      Spuyten Duyvil   235995   \n",
              "..                         ...               ...                 ...      ...   \n",
              "379           1619 3rd Ave #3B          New York     Upper East Side   635000   \n",
              "381            43 Joralemon St          Brooklyn    Brooklyn Heights  4500000   \n",
              "382         195 Classon Ave #5          Brooklyn  Bedford Stuyvesant  1395000   \n",
              "384       410 Maryland Ave #1C     Staten Island            Rosebank   279900   \n",
              "385             2415 E 64th St          Brooklyn          Mill Basin  1089000   \n",
              "\n",
              "    Year Built Beds Baths  Area Price(per sqft)                A/C  \n",
              "1         2022    0     1   441            1406       Cooling only  \n",
              "2         2022    1     1   579            1261       Cooling only  \n",
              "3         2022    0     1   429            1329       Cooling only  \n",
              "4         2022    1     1   632            1100                 No  \n",
              "6         1970    1     1   850             278                 No  \n",
              "..         ...  ...   ...   ...             ...                ...  \n",
              "379       1975    0     1   528            1203       Cooling only  \n",
              "381       1845    5     6  3192            1410                 No  \n",
              "382       2008    2     2  1185            1177                 No  \n",
              "384       1974    2     1  1100             254  Heating & Cooling  \n",
              "385       1965    4     3  1899             573  Heating & Cooling  \n",
              "\n",
              "[251 rows x 10 columns]"
            ],
            "text/html": [
              "\n",
              "  <div id=\"df-13049425-687c-4dc4-9fb6-45570c3950aa\">\n",
              "    <div class=\"colab-df-container\">\n",
              "      <div>\n",
              "<style scoped>\n",
              "    .dataframe tbody tr th:only-of-type {\n",
              "        vertical-align: middle;\n",
              "    }\n",
              "\n",
              "    .dataframe tbody tr th {\n",
              "        vertical-align: top;\n",
              "    }\n",
              "\n",
              "    .dataframe thead th {\n",
              "        text-align: right;\n",
              "    }\n",
              "</style>\n",
              "<table border=\"1\" class=\"dataframe\">\n",
              "  <thead>\n",
              "    <tr style=\"text-align: right;\">\n",
              "      <th></th>\n",
              "      <th>Name</th>\n",
              "      <th>City</th>\n",
              "      <th>Neighbourhood</th>\n",
              "      <th>Price</th>\n",
              "      <th>Year Built</th>\n",
              "      <th>Beds</th>\n",
              "      <th>Baths</th>\n",
              "      <th>Area</th>\n",
              "      <th>Price(per sqft)</th>\n",
              "      <th>A/C</th>\n",
              "    </tr>\n",
              "  </thead>\n",
              "  <tbody>\n",
              "    <tr>\n",
              "      <th>1</th>\n",
              "      <td>37-26 32nd St #5K</td>\n",
              "      <td>Long Island City</td>\n",
              "      <td>Astoria</td>\n",
              "      <td>620000</td>\n",
              "      <td>2022</td>\n",
              "      <td>0</td>\n",
              "      <td>1</td>\n",
              "      <td>441</td>\n",
              "      <td>1406</td>\n",
              "      <td>Cooling only</td>\n",
              "    </tr>\n",
              "    <tr>\n",
              "      <th>2</th>\n",
              "      <td>37-26 32nd St #3G</td>\n",
              "      <td>Long Island City</td>\n",
              "      <td>Astoria</td>\n",
              "      <td>730000</td>\n",
              "      <td>2022</td>\n",
              "      <td>1</td>\n",
              "      <td>1</td>\n",
              "      <td>579</td>\n",
              "      <td>1261</td>\n",
              "      <td>Cooling only</td>\n",
              "    </tr>\n",
              "    <tr>\n",
              "      <th>3</th>\n",
              "      <td>37-26 32nd St #6L</td>\n",
              "      <td>Long Island City</td>\n",
              "      <td>Astoria</td>\n",
              "      <td>570000</td>\n",
              "      <td>2022</td>\n",
              "      <td>0</td>\n",
              "      <td>1</td>\n",
              "      <td>429</td>\n",
              "      <td>1329</td>\n",
              "      <td>Cooling only</td>\n",
              "    </tr>\n",
              "    <tr>\n",
              "      <th>4</th>\n",
              "      <td>37-26 32nd St #3H</td>\n",
              "      <td>Long Island City</td>\n",
              "      <td>Astoria</td>\n",
              "      <td>695000</td>\n",
              "      <td>2022</td>\n",
              "      <td>1</td>\n",
              "      <td>1</td>\n",
              "      <td>632</td>\n",
              "      <td>1100</td>\n",
              "      <td>No</td>\n",
              "    </tr>\n",
              "    <tr>\n",
              "      <th>6</th>\n",
              "      <td>2736 Independence Ave #6J</td>\n",
              "      <td>Bronx</td>\n",
              "      <td>Spuyten Duyvil</td>\n",
              "      <td>235995</td>\n",
              "      <td>1970</td>\n",
              "      <td>1</td>\n",
              "      <td>1</td>\n",
              "      <td>850</td>\n",
              "      <td>278</td>\n",
              "      <td>No</td>\n",
              "    </tr>\n",
              "    <tr>\n",
              "      <th>...</th>\n",
              "      <td>...</td>\n",
              "      <td>...</td>\n",
              "      <td>...</td>\n",
              "      <td>...</td>\n",
              "      <td>...</td>\n",
              "      <td>...</td>\n",
              "      <td>...</td>\n",
              "      <td>...</td>\n",
              "      <td>...</td>\n",
              "      <td>...</td>\n",
              "    </tr>\n",
              "    <tr>\n",
              "      <th>379</th>\n",
              "      <td>1619 3rd Ave #3B</td>\n",
              "      <td>New York</td>\n",
              "      <td>Upper East Side</td>\n",
              "      <td>635000</td>\n",
              "      <td>1975</td>\n",
              "      <td>0</td>\n",
              "      <td>1</td>\n",
              "      <td>528</td>\n",
              "      <td>1203</td>\n",
              "      <td>Cooling only</td>\n",
              "    </tr>\n",
              "    <tr>\n",
              "      <th>381</th>\n",
              "      <td>43 Joralemon St</td>\n",
              "      <td>Brooklyn</td>\n",
              "      <td>Brooklyn Heights</td>\n",
              "      <td>4500000</td>\n",
              "      <td>1845</td>\n",
              "      <td>5</td>\n",
              "      <td>6</td>\n",
              "      <td>3192</td>\n",
              "      <td>1410</td>\n",
              "      <td>No</td>\n",
              "    </tr>\n",
              "    <tr>\n",
              "      <th>382</th>\n",
              "      <td>195 Classon Ave #5</td>\n",
              "      <td>Brooklyn</td>\n",
              "      <td>Bedford Stuyvesant</td>\n",
              "      <td>1395000</td>\n",
              "      <td>2008</td>\n",
              "      <td>2</td>\n",
              "      <td>2</td>\n",
              "      <td>1185</td>\n",
              "      <td>1177</td>\n",
              "      <td>No</td>\n",
              "    </tr>\n",
              "    <tr>\n",
              "      <th>384</th>\n",
              "      <td>410 Maryland Ave #1C</td>\n",
              "      <td>Staten Island</td>\n",
              "      <td>Rosebank</td>\n",
              "      <td>279900</td>\n",
              "      <td>1974</td>\n",
              "      <td>2</td>\n",
              "      <td>1</td>\n",
              "      <td>1100</td>\n",
              "      <td>254</td>\n",
              "      <td>Heating &amp; Cooling</td>\n",
              "    </tr>\n",
              "    <tr>\n",
              "      <th>385</th>\n",
              "      <td>2415 E 64th St</td>\n",
              "      <td>Brooklyn</td>\n",
              "      <td>Mill Basin</td>\n",
              "      <td>1089000</td>\n",
              "      <td>1965</td>\n",
              "      <td>4</td>\n",
              "      <td>3</td>\n",
              "      <td>1899</td>\n",
              "      <td>573</td>\n",
              "      <td>Heating &amp; Cooling</td>\n",
              "    </tr>\n",
              "  </tbody>\n",
              "</table>\n",
              "<p>251 rows × 10 columns</p>\n",
              "</div>\n",
              "      <button class=\"colab-df-convert\" onclick=\"convertToInteractive('df-13049425-687c-4dc4-9fb6-45570c3950aa')\"\n",
              "              title=\"Convert this dataframe to an interactive table.\"\n",
              "              style=\"display:none;\">\n",
              "        \n",
              "  <svg xmlns=\"http://www.w3.org/2000/svg\" height=\"24px\"viewBox=\"0 0 24 24\"\n",
              "       width=\"24px\">\n",
              "    <path d=\"M0 0h24v24H0V0z\" fill=\"none\"/>\n",
              "    <path d=\"M18.56 5.44l.94 2.06.94-2.06 2.06-.94-2.06-.94-.94-2.06-.94 2.06-2.06.94zm-11 1L8.5 8.5l.94-2.06 2.06-.94-2.06-.94L8.5 2.5l-.94 2.06-2.06.94zm10 10l.94 2.06.94-2.06 2.06-.94-2.06-.94-.94-2.06-.94 2.06-2.06.94z\"/><path d=\"M17.41 7.96l-1.37-1.37c-.4-.4-.92-.59-1.43-.59-.52 0-1.04.2-1.43.59L10.3 9.45l-7.72 7.72c-.78.78-.78 2.05 0 2.83L4 21.41c.39.39.9.59 1.41.59.51 0 1.02-.2 1.41-.59l7.78-7.78 2.81-2.81c.8-.78.8-2.07 0-2.86zM5.41 20L4 18.59l7.72-7.72 1.47 1.35L5.41 20z\"/>\n",
              "  </svg>\n",
              "      </button>\n",
              "      \n",
              "  <style>\n",
              "    .colab-df-container {\n",
              "      display:flex;\n",
              "      flex-wrap:wrap;\n",
              "      gap: 12px;\n",
              "    }\n",
              "\n",
              "    .colab-df-convert {\n",
              "      background-color: #E8F0FE;\n",
              "      border: none;\n",
              "      border-radius: 50%;\n",
              "      cursor: pointer;\n",
              "      display: none;\n",
              "      fill: #1967D2;\n",
              "      height: 32px;\n",
              "      padding: 0 0 0 0;\n",
              "      width: 32px;\n",
              "    }\n",
              "\n",
              "    .colab-df-convert:hover {\n",
              "      background-color: #E2EBFA;\n",
              "      box-shadow: 0px 1px 2px rgba(60, 64, 67, 0.3), 0px 1px 3px 1px rgba(60, 64, 67, 0.15);\n",
              "      fill: #174EA6;\n",
              "    }\n",
              "\n",
              "    [theme=dark] .colab-df-convert {\n",
              "      background-color: #3B4455;\n",
              "      fill: #D2E3FC;\n",
              "    }\n",
              "\n",
              "    [theme=dark] .colab-df-convert:hover {\n",
              "      background-color: #434B5C;\n",
              "      box-shadow: 0px 1px 3px 1px rgba(0, 0, 0, 0.15);\n",
              "      filter: drop-shadow(0px 1px 2px rgba(0, 0, 0, 0.3));\n",
              "      fill: #FFFFFF;\n",
              "    }\n",
              "  </style>\n",
              "\n",
              "      <script>\n",
              "        const buttonEl =\n",
              "          document.querySelector('#df-13049425-687c-4dc4-9fb6-45570c3950aa button.colab-df-convert');\n",
              "        buttonEl.style.display =\n",
              "          google.colab.kernel.accessAllowed ? 'block' : 'none';\n",
              "\n",
              "        async function convertToInteractive(key) {\n",
              "          const element = document.querySelector('#df-13049425-687c-4dc4-9fb6-45570c3950aa');\n",
              "          const dataTable =\n",
              "            await google.colab.kernel.invokeFunction('convertToInteractive',\n",
              "                                                     [key], {});\n",
              "          if (!dataTable) return;\n",
              "\n",
              "          const docLinkHtml = 'Like what you see? Visit the ' +\n",
              "            '<a target=\"_blank\" href=https://colab.research.google.com/notebooks/data_table.ipynb>data table notebook</a>'\n",
              "            + ' to learn more about interactive tables.';\n",
              "          element.innerHTML = '';\n",
              "          dataTable['output_type'] = 'display_data';\n",
              "          await google.colab.output.renderOutput(dataTable, element);\n",
              "          const docLink = document.createElement('div');\n",
              "          docLink.innerHTML = docLinkHtml;\n",
              "          element.appendChild(docLink);\n",
              "        }\n",
              "      </script>\n",
              "    </div>\n",
              "  </div>\n",
              "  "
            ]
          },
          "metadata": {},
          "execution_count": 30
        }
      ],
      "source": [
        "df"
      ]
    },
    {
      "cell_type": "code",
      "execution_count": null,
      "id": "1f217411",
      "metadata": {
        "id": "1f217411"
      },
      "outputs": [],
      "source": [
        "#model"
      ]
    },
    {
      "cell_type": "code",
      "execution_count": null,
      "id": "43dbb7c9",
      "metadata": {
        "id": "43dbb7c9"
      },
      "outputs": [],
      "source": [
        "from sklearn.linear_model import LinearRegression\n",
        "from sklearn.metrics import mean_squared_error, r2_score\n",
        "from sklearn.model_selection import train_test_split"
      ]
    },
    {
      "cell_type": "code",
      "execution_count": null,
      "id": "0209af47",
      "metadata": {
        "id": "0209af47"
      },
      "outputs": [],
      "source": [
        "X = df[['Year Built','Beds', 'Baths']]\n",
        "        #,'Area']]\n",
        "\n",
        "y = df[['Price']]"
      ]
    },
    {
      "cell_type": "code",
      "execution_count": null,
      "id": "92e1b8d9",
      "metadata": {
        "id": "92e1b8d9"
      },
      "outputs": [],
      "source": [
        "X = X.apply(pd.to_numeric, errors='coerce')\n",
        "y = y.apply(pd.to_numeric, errors='coerce')"
      ]
    },
    {
      "cell_type": "code",
      "execution_count": null,
      "id": "b4b1ebce",
      "metadata": {
        "colab": {
          "base_uri": "https://localhost:8080/"
        },
        "id": "b4b1ebce",
        "outputId": "bfe84961-d9a5-4616-d25a-f3829a609b43"
      },
      "outputs": [
        {
          "output_type": "execute_result",
          "data": {
            "text/plain": [
              "Year Built    int64\n",
              "Beds          int64\n",
              "Baths         int64\n",
              "dtype: object"
            ]
          },
          "metadata": {},
          "execution_count": 35
        }
      ],
      "source": [
        "X.dtypes"
      ]
    },
    {
      "cell_type": "code",
      "execution_count": null,
      "id": "f38f377a",
      "metadata": {
        "id": "f38f377a"
      },
      "outputs": [],
      "source": [
        "X_train, X_test, y_train, y_test = train_test_split(X, y, test_size=0.3, random_state=101)"
      ]
    },
    {
      "cell_type": "code",
      "execution_count": null,
      "id": "a4d58ab7",
      "metadata": {
        "colab": {
          "base_uri": "https://localhost:8080/",
          "height": 424
        },
        "id": "a4d58ab7",
        "outputId": "d90d0dfd-9fe7-4659-fa2b-390f1dc4ddd8"
      },
      "outputs": [
        {
          "output_type": "execute_result",
          "data": {
            "text/plain": [
              "     Year Built  Beds  Baths\n",
              "83         2022     0      1\n",
              "102        2008     2      2\n",
              "329        1910     6      4\n",
              "262        2008     2      2\n",
              "286        1970     1      1\n",
              "..          ...   ...    ...\n",
              "97         1940     2      2\n",
              "110        1986     1      1\n",
              "124        2022     1      1\n",
              "17         1940     2      2\n",
              "149        1932     1      1\n",
              "\n",
              "[175 rows x 3 columns]"
            ],
            "text/html": [
              "\n",
              "  <div id=\"df-3f564485-7776-4193-92eb-3b7d21507fe4\">\n",
              "    <div class=\"colab-df-container\">\n",
              "      <div>\n",
              "<style scoped>\n",
              "    .dataframe tbody tr th:only-of-type {\n",
              "        vertical-align: middle;\n",
              "    }\n",
              "\n",
              "    .dataframe tbody tr th {\n",
              "        vertical-align: top;\n",
              "    }\n",
              "\n",
              "    .dataframe thead th {\n",
              "        text-align: right;\n",
              "    }\n",
              "</style>\n",
              "<table border=\"1\" class=\"dataframe\">\n",
              "  <thead>\n",
              "    <tr style=\"text-align: right;\">\n",
              "      <th></th>\n",
              "      <th>Year Built</th>\n",
              "      <th>Beds</th>\n",
              "      <th>Baths</th>\n",
              "    </tr>\n",
              "  </thead>\n",
              "  <tbody>\n",
              "    <tr>\n",
              "      <th>83</th>\n",
              "      <td>2022</td>\n",
              "      <td>0</td>\n",
              "      <td>1</td>\n",
              "    </tr>\n",
              "    <tr>\n",
              "      <th>102</th>\n",
              "      <td>2008</td>\n",
              "      <td>2</td>\n",
              "      <td>2</td>\n",
              "    </tr>\n",
              "    <tr>\n",
              "      <th>329</th>\n",
              "      <td>1910</td>\n",
              "      <td>6</td>\n",
              "      <td>4</td>\n",
              "    </tr>\n",
              "    <tr>\n",
              "      <th>262</th>\n",
              "      <td>2008</td>\n",
              "      <td>2</td>\n",
              "      <td>2</td>\n",
              "    </tr>\n",
              "    <tr>\n",
              "      <th>286</th>\n",
              "      <td>1970</td>\n",
              "      <td>1</td>\n",
              "      <td>1</td>\n",
              "    </tr>\n",
              "    <tr>\n",
              "      <th>...</th>\n",
              "      <td>...</td>\n",
              "      <td>...</td>\n",
              "      <td>...</td>\n",
              "    </tr>\n",
              "    <tr>\n",
              "      <th>97</th>\n",
              "      <td>1940</td>\n",
              "      <td>2</td>\n",
              "      <td>2</td>\n",
              "    </tr>\n",
              "    <tr>\n",
              "      <th>110</th>\n",
              "      <td>1986</td>\n",
              "      <td>1</td>\n",
              "      <td>1</td>\n",
              "    </tr>\n",
              "    <tr>\n",
              "      <th>124</th>\n",
              "      <td>2022</td>\n",
              "      <td>1</td>\n",
              "      <td>1</td>\n",
              "    </tr>\n",
              "    <tr>\n",
              "      <th>17</th>\n",
              "      <td>1940</td>\n",
              "      <td>2</td>\n",
              "      <td>2</td>\n",
              "    </tr>\n",
              "    <tr>\n",
              "      <th>149</th>\n",
              "      <td>1932</td>\n",
              "      <td>1</td>\n",
              "      <td>1</td>\n",
              "    </tr>\n",
              "  </tbody>\n",
              "</table>\n",
              "<p>175 rows × 3 columns</p>\n",
              "</div>\n",
              "      <button class=\"colab-df-convert\" onclick=\"convertToInteractive('df-3f564485-7776-4193-92eb-3b7d21507fe4')\"\n",
              "              title=\"Convert this dataframe to an interactive table.\"\n",
              "              style=\"display:none;\">\n",
              "        \n",
              "  <svg xmlns=\"http://www.w3.org/2000/svg\" height=\"24px\"viewBox=\"0 0 24 24\"\n",
              "       width=\"24px\">\n",
              "    <path d=\"M0 0h24v24H0V0z\" fill=\"none\"/>\n",
              "    <path d=\"M18.56 5.44l.94 2.06.94-2.06 2.06-.94-2.06-.94-.94-2.06-.94 2.06-2.06.94zm-11 1L8.5 8.5l.94-2.06 2.06-.94-2.06-.94L8.5 2.5l-.94 2.06-2.06.94zm10 10l.94 2.06.94-2.06 2.06-.94-2.06-.94-.94-2.06-.94 2.06-2.06.94z\"/><path d=\"M17.41 7.96l-1.37-1.37c-.4-.4-.92-.59-1.43-.59-.52 0-1.04.2-1.43.59L10.3 9.45l-7.72 7.72c-.78.78-.78 2.05 0 2.83L4 21.41c.39.39.9.59 1.41.59.51 0 1.02-.2 1.41-.59l7.78-7.78 2.81-2.81c.8-.78.8-2.07 0-2.86zM5.41 20L4 18.59l7.72-7.72 1.47 1.35L5.41 20z\"/>\n",
              "  </svg>\n",
              "      </button>\n",
              "      \n",
              "  <style>\n",
              "    .colab-df-container {\n",
              "      display:flex;\n",
              "      flex-wrap:wrap;\n",
              "      gap: 12px;\n",
              "    }\n",
              "\n",
              "    .colab-df-convert {\n",
              "      background-color: #E8F0FE;\n",
              "      border: none;\n",
              "      border-radius: 50%;\n",
              "      cursor: pointer;\n",
              "      display: none;\n",
              "      fill: #1967D2;\n",
              "      height: 32px;\n",
              "      padding: 0 0 0 0;\n",
              "      width: 32px;\n",
              "    }\n",
              "\n",
              "    .colab-df-convert:hover {\n",
              "      background-color: #E2EBFA;\n",
              "      box-shadow: 0px 1px 2px rgba(60, 64, 67, 0.3), 0px 1px 3px 1px rgba(60, 64, 67, 0.15);\n",
              "      fill: #174EA6;\n",
              "    }\n",
              "\n",
              "    [theme=dark] .colab-df-convert {\n",
              "      background-color: #3B4455;\n",
              "      fill: #D2E3FC;\n",
              "    }\n",
              "\n",
              "    [theme=dark] .colab-df-convert:hover {\n",
              "      background-color: #434B5C;\n",
              "      box-shadow: 0px 1px 3px 1px rgba(0, 0, 0, 0.15);\n",
              "      filter: drop-shadow(0px 1px 2px rgba(0, 0, 0, 0.3));\n",
              "      fill: #FFFFFF;\n",
              "    }\n",
              "  </style>\n",
              "\n",
              "      <script>\n",
              "        const buttonEl =\n",
              "          document.querySelector('#df-3f564485-7776-4193-92eb-3b7d21507fe4 button.colab-df-convert');\n",
              "        buttonEl.style.display =\n",
              "          google.colab.kernel.accessAllowed ? 'block' : 'none';\n",
              "\n",
              "        async function convertToInteractive(key) {\n",
              "          const element = document.querySelector('#df-3f564485-7776-4193-92eb-3b7d21507fe4');\n",
              "          const dataTable =\n",
              "            await google.colab.kernel.invokeFunction('convertToInteractive',\n",
              "                                                     [key], {});\n",
              "          if (!dataTable) return;\n",
              "\n",
              "          const docLinkHtml = 'Like what you see? Visit the ' +\n",
              "            '<a target=\"_blank\" href=https://colab.research.google.com/notebooks/data_table.ipynb>data table notebook</a>'\n",
              "            + ' to learn more about interactive tables.';\n",
              "          element.innerHTML = '';\n",
              "          dataTable['output_type'] = 'display_data';\n",
              "          await google.colab.output.renderOutput(dataTable, element);\n",
              "          const docLink = document.createElement('div');\n",
              "          docLink.innerHTML = docLinkHtml;\n",
              "          element.appendChild(docLink);\n",
              "        }\n",
              "      </script>\n",
              "    </div>\n",
              "  </div>\n",
              "  "
            ]
          },
          "metadata": {},
          "execution_count": 37
        }
      ],
      "source": [
        "X_train"
      ]
    },
    {
      "cell_type": "code",
      "execution_count": null,
      "id": "5c3287a4",
      "metadata": {
        "colab": {
          "base_uri": "https://localhost:8080/"
        },
        "id": "5c3287a4",
        "outputId": "d69bba90-bfea-4839-dbd3-0df543dc2bb9"
      },
      "outputs": [
        {
          "output_type": "execute_result",
          "data": {
            "text/plain": [
              "LinearRegression()"
            ]
          },
          "metadata": {},
          "execution_count": 39
        }
      ],
      "source": [
        "lm = LinearRegression()\n",
        "lm.fit(X_train, y_train)"
      ]
    },
    {
      "cell_type": "code",
      "execution_count": null,
      "id": "a33644e1",
      "metadata": {
        "id": "a33644e1"
      },
      "outputs": [],
      "source": [
        "predictions = lm.predict(X_test)"
      ]
    },
    {
      "cell_type": "code",
      "execution_count": null,
      "id": "1de98763",
      "metadata": {
        "id": "1de98763",
        "colab": {
          "base_uri": "https://localhost:8080/",
          "height": 306
        },
        "outputId": "87408212-372a-4e01-8442-79471b0ca72c"
      },
      "outputs": [
        {
          "output_type": "execute_result",
          "data": {
            "text/plain": [
              "<matplotlib.collections.PathCollection at 0x7fb5c75b8a30>"
            ]
          },
          "metadata": {},
          "execution_count": 41
        },
        {
          "output_type": "display_data",
          "data": {
            "text/plain": [
              "<Figure size 432x288 with 1 Axes>"
            ],
            "image/png": "[encoded data removed]"
          },
          "metadata": {
            "needs_background": "light"
          }
        }
      ],
      "source": [
        "plt.scatter(y_test, predictions)"
      ]
    },
    {
      "cell_type": "code",
      "execution_count": null,
      "id": "a822a7a1",
      "metadata": {
        "id": "a822a7a1"
      },
      "outputs": [],
      "source": [
        "from sklearn.metrics import mean_squared_error, r2_score"
      ]
    },
    {
      "cell_type": "code",
      "execution_count": null,
      "id": "60c593c3",
      "metadata": {
        "id": "60c593c3",
        "colab": {
          "base_uri": "https://localhost:8080/"
        },
        "outputId": "c3f0500f-9741-4a9a-9ef0-8fb230c5b4cf"
      },
      "outputs": [
        {
          "output_type": "stream",
          "name": "stdout",
          "text": [
            "R2 Score: 0.5612727865961878\n"
          ]
        }
      ],
      "source": [
        "mse = mean_squared_error(y_test, predictions)\n",
        "r = r2_score(y_test, predictions)\n",
        "\n",
        "print(f\"R2 Score: {r}\")\n",
        "# print(f\"Mean Squared Error: {mse}\")"
      ]
    },
    {
      "cell_type": "code",
      "execution_count": null,
      "id": "db629a37",
      "metadata": {
        "id": "db629a37"
      },
      "outputs": [],
      "source": [
        "year = 2002\n",
        "beds = 2\n",
        "bath = 2"
      ]
    },
    {
      "cell_type": "code",
      "execution_count": null,
      "id": "9b5b00cc",
      "metadata": {
        "id": "9b5b00cc"
      },
      "outputs": [],
      "source": [
        "price = lm.predict(pd.DataFrame([[year, beds, bath]],\n",
        "                                            columns=['Year Built','Beds', 'Baths']))"
      ]
    },
    {
      "cell_type": "code",
      "execution_count": null,
      "id": "4faff5cb",
      "metadata": {
        "id": "4faff5cb",
        "colab": {
          "base_uri": "https://localhost:8080/"
        },
        "outputId": "0deb64db-42bb-47da-9f44-4c7c599efb97"
      },
      "outputs": [
        {
          "output_type": "stream",
          "name": "stdout",
          "text": [
            "[[1034369.5457509]]\n"
          ]
        }
      ],
      "source": [
        "print(price)"
      ]
    },
    {
      "cell_type": "code",
      "execution_count": null,
      "id": "7f8976a2",
      "metadata": {
        "id": "7f8976a2"
      },
      "outputs": [],
      "source": [
        "import pickle\n",
        "pickle.dump(lm, open('model.pkl', 'wb'))\n"
      ]
    },
    {
      "cell_type": "code",
      "source": [
        "pickled_model = pickle.load(open('model.pkl', 'rb'))\n",
        "pickled_model.predict(X_test)"
      ],
      "metadata": {
        "id": "n_6lJXdZ7KfI",
        "colab": {
          "base_uri": "https://localhost:8080/"
        },
        "outputId": "e249d18c-bfc8-4d6f-ae5d-b36f6ac52500"
      },
      "id": "n_6lJXdZ7KfI",
      "execution_count": null,
      "outputs": [
        {
          "output_type": "execute_result",
          "data": {
            "text/plain": [
              "array([[ 550053.12582878],\n",
              "       [ 395846.1727495 ],\n",
              "       [ 343688.53706178],\n",
              "       [ 981489.99983971],\n",
              "       [ 875730.90801732],\n",
              "       [ 395846.1727495 ],\n",
              "       [ 418111.60167753],\n",
              "       [2685027.25394565],\n",
              "       [ 418111.60167753],\n",
              "       [1044162.05425297],\n",
              "       [2971327.7731559 ],\n",
              "       [1909716.21419871],\n",
              "       [1044162.05425297],\n",
              "       [1046120.55595339],\n",
              "       [ 550053.12582878],\n",
              "       [ 912942.4403252 ],\n",
              "       [2685027.25394565],\n",
              "       [ 832643.8706082 ],\n",
              "       [2685027.25394565],\n",
              "       [ 832643.8706082 ],\n",
              "       [ 418111.60167753],\n",
              "       [ 912942.4403252 ],\n",
              "       [1901160.29717358],\n",
              "       [1073539.57975919],\n",
              "       [ 447489.12718375],\n",
              "       [2685027.25394565],\n",
              "       [ 395846.1727495 ],\n",
              "       [ 912942.4403252 ],\n",
              "       [ 550053.12582878],\n",
              "       [ 447489.12718375],\n",
              "       [ 550053.12582878],\n",
              "       [ 550053.12582878],\n",
              "       [ 912942.4403252 ],\n",
              "       [ 449447.62888417],\n",
              "       [1901160.29717358],\n",
              "       [ 458003.5459093 ],\n",
              "       [ 458003.5459093 ],\n",
              "       [1044162.05425297],\n",
              "       [ 458003.5459093 ],\n",
              "       [ 912942.4403252 ],\n",
              "       [ 912942.4403252 ],\n",
              "       [ 449447.62888417],\n",
              "       [ 395846.1727495 ],\n",
              "       [ 458003.5459093 ],\n",
              "       [ 912942.4403252 ],\n",
              "       [1485391.43676597],\n",
              "       [ 449447.62888417],\n",
              "       [2685027.25394565],\n",
              "       [ 832643.8706082 ],\n",
              "       [1909716.21419871],\n",
              "       [ 395846.1727495 ],\n",
              "       [ 519953.69009909],\n",
              "       [ 418111.60167753],\n",
              "       [ 550053.12582878],\n",
              "       [ 418111.60167753],\n",
              "       [2971327.7731559 ],\n",
              "       [1073539.57975919],\n",
              "       [ 458003.5459093 ],\n",
              "       [1044162.05425297],\n",
              "       [1046120.55595339],\n",
              "       [1485391.43676597],\n",
              "       [ 343688.53706178],\n",
              "       [ 832643.8706082 ],\n",
              "       [1073539.57975919],\n",
              "       [ 550053.12582878],\n",
              "       [ 981489.99983971],\n",
              "       [ 875730.90801732],\n",
              "       [ 832643.8706082 ],\n",
              "       [1485391.43676597],\n",
              "       [ 519953.69009909],\n",
              "       [ 395846.1727495 ],\n",
              "       [ 833880.46208515],\n",
              "       [ 550053.12582878],\n",
              "       [1046120.55595339],\n",
              "       [2971327.7731559 ],\n",
              "       [ 458003.5459093 ]])"
            ]
          },
          "metadata": {},
          "execution_count": 60
        }
      ]
    },
    {
      "cell_type": "code",
      "source": [],
      "metadata": {
        "id": "RUbRxVwZ7Pub"
      },
      "id": "RUbRxVwZ7Pub",
      "execution_count": null,
      "outputs": []
    }
  ],
  "metadata": {
    "kernelspec": {
      "display_name": "Python 3 (ipykernel)",
      "language": "python",
      "name": "python3"
    },
    "language_info": {
      "codemirror_mode": {
        "name": "ipython",
        "version": 3
      },
      "file_extension": ".py",
      "mimetype": "text/x-python",
      "name": "python",
      "nbconvert_exporter": "python",
      "pygments_lexer": "ipython3",
      "version": "3.10.1"
    },
    "colab": {
      "provenance": []
    }
  },
  "nbformat": 4,
  "nbformat_minor": 5
}